{
 "cells": [
  {
   "cell_type": "markdown",
   "id": "3524b8d6-ef19-45d3-85cf-91d011dfaf49",
   "metadata": {},
   "source": [
    "# Tools for Data Science Peer-Graded Assignment"
   ]
  },
  {
   "cell_type": "markdown",
   "id": "64d13245-a820-4ca5-9ac8-51b1afe1d21c",
   "metadata": {},
   "source": [
    "This is my Tools for Data Science Peer-Graded Assignment"
   ]
  },
  {
   "cell_type": "markdown",
   "id": "01536fba-85ba-4598-9be9-6f2a5744eef1",
   "metadata": {},
   "source": [
    "<ul>\n",
    "<li>Python</li>\n",
    "<li>SQL</li>\n",
    "<li>R</li>\n",
    "</ul>"
   ]
  },
  {
   "cell_type": "markdown",
   "id": "48835f40-17a8-48b2-8571-ac4e95e3f555",
   "metadata": {},
   "source": [
    "<ul>\n",
    "<li>TensorFlow</li>\n",
    "<li>NumPy</li>\n",
    "<li>Pandas</li>\n",
    "</ul>"
   ]
  },
  {
   "cell_type": "markdown",
   "id": "e55bf090-12d9-45d9-b632-eb714ae97b24",
   "metadata": {},
   "source": [
    "|Data Science Tools| \n",
    "|-----| \n",
    "|Apache Spark| \n",
    "|D3| \n",
    "|IBM SPSS| \n",
    "|Julia|"
   ]
  },
  {
   "cell_type": "markdown",
   "id": "256fa165-e878-41c4-85ec-edc150291efa",
   "metadata": {},
   "source": [
    "\\$\\sqrt{k}$"
   ]
  },
  {
   "cell_type": "markdown",
   "id": "f5c2f8c0-8f18-4e2c-bda1-6fd3b9449ea1",
   "metadata": {},
   "source": [
    "2 $+$ 3 = 5"
   ]
  },
  {
   "cell_type": "code",
   "execution_count": 1,
   "id": "0a48dba5-7233-4a07-9ec8-b64c71b59ab8",
   "metadata": {},
   "outputs": [
    {
     "name": "stdout",
     "output_type": "stream",
     "text": [
      "26\n",
      "6\n"
     ]
    }
   ],
   "source": [
    "numbers = [5,8,9,4]\n",
    "addition=0\n",
    "for number in numbers:\n",
    "    addition += number\n",
    "print(addition)\n",
    "print(2*3)"
   ]
  },
  {
   "cell_type": "code",
   "execution_count": 3,
   "id": "dc013c0a-be2f-4bd4-94d8-f23a8de2c57a",
   "metadata": {},
   "outputs": [
    {
     "data": {
      "text/plain": [
       "3"
      ]
     },
     "execution_count": 3,
     "metadata": {},
     "output_type": "execute_result"
    }
   ],
   "source": [
    "180//60"
   ]
  },
  {
   "cell_type": "code",
   "execution_count": null,
   "id": "9891c8db-f09c-4ca0-a4a2-6896d5dd650e",
   "metadata": {},
   "outputs": [],
   "source": []
  }
 ],
 "metadata": {
  "kernelspec": {
   "display_name": "Python",
   "language": "python",
   "name": "conda-env-python-py"
  },
  "language_info": {
   "codemirror_mode": {
    "name": "ipython",
    "version": 3
   },
   "file_extension": ".py",
   "mimetype": "text/x-python",
   "name": "python",
   "nbconvert_exporter": "python",
   "pygments_lexer": "ipython3",
   "version": "3.7.12"
  }
 },
 "nbformat": 4,
 "nbformat_minor": 5
}
